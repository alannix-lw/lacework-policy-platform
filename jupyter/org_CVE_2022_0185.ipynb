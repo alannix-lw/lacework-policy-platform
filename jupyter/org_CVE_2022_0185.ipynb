{
  "cells": [
    {
      "cell_type": "code",
      "execution_count": null,
      "id": "1MEcR3n1BZan",
      "metadata": {
        "colab": {
          "base_uri": "https://localhost:8080/"
        },
        "id": "1MEcR3n1BZan",
        "outputId": "68eb305a-6b45-44ec-d164-d6f0fd9be77a"
      },
      "outputs": [],
      "source": [
        "!pip install laceworksdk requests~=2.25 urllib3~=1.26"
      ]
    },
    {
      "cell_type": "code",
      "execution_count": null,
      "id": "8cc85515",
      "metadata": {
        "id": "8cc85515",
        "tags": [
          "parameters"
        ]
      },
      "outputs": [],
      "source": [
        "LW_ACCOUNT=\"\"\n",
        "LW_API_KEY=\"\"\n",
        "LW_API_SECRET=\"\""
      ]
    },
    {
      "cell_type": "code",
      "execution_count": null,
      "id": "33120b28",
      "metadata": {
        "id": "33120b28"
      },
      "outputs": [],
      "source": [
        "from datetime import datetime, timedelta, timezone\n",
        "from pprint import pprint\n",
        "\n",
        "from laceworksdk import LaceworkClient\n",
        "\n",
        "# Build start/end times\n",
        "current_time = datetime.now(timezone.utc)\n",
        "start_time = current_time - timedelta(days=1)\n",
        "start_time = start_time.strftime(\"%Y-%m-%dT%H:%M:%S.000Z\")\n",
        "end_time = current_time.strftime(\"%Y-%m-%dT%H:%M:%S.000Z\")\n",
        "\n",
        "lw = LaceworkClient(account=LW_ACCOUNT,\n",
        "                    api_key=LW_API_KEY,\n",
        "                    api_secret=LW_API_SECRET)\n",
        "\n",
        "lw.set_org_level_access(True)\n",
        "\n",
        "user_profile = lw.user_profile.get()\n",
        "user_profile_data = user_profile.get('data', {})[0]\n",
        "\n",
        "lw.set_org_level_access(False)\n",
        "\n",
        "results = []\n",
        "\n",
        "if user_profile_data.get('orgAccount', False):\n",
        "\n",
        "    for subaccount in user_profile_data.get('accounts', []):\n",
        "        \n",
        "        lw.set_subaccount(subaccount['accountName'])\n",
        "\n",
        "        response = lw.queries.execute(\n",
        "            query_text=\"\"\"LW_Custom_Host_CVE_2022_0185 {\n",
        "                source {\n",
        "                    LW_HE_MACHINES\n",
        "                }\n",
        "                filter {\n",
        "                    OS = 'Amazon Linux'\n",
        "                    and OS_VERSION = '2'\n",
        "                    and to_double(substring(KERNEL_RELEASE, 1, 1)) = 5\n",
        "                    and to_double(substring(KERNEL_RELEASE, 3, 1)) >= 1\n",
        "                    and to_double(substring(KERNEL_RELEASE, 3, 1)) <= 4\n",
        "                    and to_double(substring(KERNEL_RELEASE, 5, 3)) < 172\n",
        "                }\n",
        "                return {\n",
        "                    MID,\n",
        "                    HOSTNAME,\n",
        "                    KERNEL,\n",
        "                    KERNEL_RELEASE,\n",
        "                    KERNEL_VERSION,\n",
        "                    OS,\n",
        "                    OS_VERSION,\n",
        "                    TAGS,\n",
        "                    TAGS:\"eks:cluster-name\"::String as CLUSTER_NAME,\n",
        "                    TAGS:\"eks:nodegroup-name\"::String as CLUSTER_NODE_GROUP,\n",
        "                    TAGS:Account::String as ACCOUNT,\n",
        "                    TAGS:Zone::String as ZONE,\n",
        "                    TAGS:InstanceId::String as INSTANCE\n",
        "                }\n",
        "            }\"\"\",\n",
        "            arguments={\n",
        "                \"StartTimeRange\": start_time,\n",
        "                \"EndTimeRange\": end_time\n",
        "            }\n",
        "        )\n",
        "\n",
        "        for machine in response[\"data\"]:\n",
        "          results.append(machine)"
      ]
    },
    {
      "cell_type": "code",
      "execution_count": null,
      "id": "eP8yRHb1BnsN",
      "metadata": {
        "colab": {
          "base_uri": "https://localhost:8080/"
        },
        "id": "eP8yRHb1BnsN",
        "outputId": "d6f62ac2-e6ce-4a5c-8bc5-a8194cac99be"
      },
      "outputs": [],
      "source": [
        "print(len(results))"
      ]
    },
    {
      "cell_type": "code",
      "execution_count": null,
      "id": "97kNi1UHHU7L",
      "metadata": {
        "colab": {
          "base_uri": "https://localhost:8080/",
          "height": 641
        },
        "id": "97kNi1UHHU7L",
        "outputId": "ab719857-5220-4dfd-b829-ff8c15f7d315"
      },
      "outputs": [],
      "source": [
        "import pandas as pd\n",
        "df = pd.DataFrame(results)\n",
        "df.head(10000)"
      ]
    }
  ],
  "metadata": {
    "celltoolbar": "Tags",
    "colab": {
      "collapsed_sections": [],
      "name": "org-CVE-2022-0185.ipynb",
      "provenance": []
    },
    "kernelspec": {
      "display_name": "Python 3",
      "language": "python",
      "name": "python3"
    },
    "language_info": {
      "codemirror_mode": {
        "name": "ipython",
        "version": 3
      },
      "file_extension": ".py",
      "mimetype": "text/x-python",
      "name": "python",
      "nbconvert_exporter": "python",
      "pygments_lexer": "ipython3",
      "version": "3.9.5"
    }
  },
  "nbformat": 4,
  "nbformat_minor": 5
}
